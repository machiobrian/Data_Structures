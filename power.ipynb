{
 "cells": [
  {
   "cell_type": "code",
   "execution_count": 2,
   "metadata": {},
   "outputs": [],
   "source": [
    "import pyvisa"
   ]
  },
  {
   "cell_type": "code",
   "execution_count": 3,
   "metadata": {},
   "outputs": [],
   "source": [
    "rm = pyvisa.ResourceManager()"
   ]
  },
  {
   "cell_type": "code",
   "execution_count": 4,
   "metadata": {},
   "outputs": [],
   "source": [
    "resources = rm.list_resources()"
   ]
  },
  {
   "cell_type": "code",
   "execution_count": 5,
   "metadata": {},
   "outputs": [
    {
     "name": "stderr",
     "output_type": "stream",
     "text": [
      "Task exception was never retrieved\n",
      "future: <Task finished name='Task-5' coro=<_ServiceBrowserBase._async_start_query_sender() done, defined at /usr/lib/python3/dist-packages/zeroconf/_services/browser.py:442> exception=NotRunningException()>\n",
      "Traceback (most recent call last):\n",
      "  File \"/usr/lib/python3/dist-packages/zeroconf/_services/browser.py\", line 444, in _async_start_query_sender\n",
      "    await self.zc.async_wait_for_start()\n",
      "  File \"/usr/lib/python3/dist-packages/zeroconf/_core.py\", line 500, in async_wait_for_start\n",
      "    raise NotRunningException\n",
      "zeroconf._exceptions.NotRunningException\n"
     ]
    },
    {
     "name": "stdout",
     "output_type": "stream",
     "text": [
      "('ASRL/dev/ttyS4::INSTR', 'ASRL/dev/ttyACM0::INSTR')\n"
     ]
    }
   ],
   "source": [
    "print(resources)"
   ]
  },
  {
   "attachments": {},
   "cell_type": "markdown",
   "metadata": {},
   "source": [
    "## Monitor battery charging and Discharging on my laptop"
   ]
  },
  {
   "cell_type": "code",
   "execution_count": 6,
   "metadata": {},
   "outputs": [
    {
     "name": "stdout",
     "output_type": "stream",
     "text": [
      "Could not detect battery or charger.\n"
     ]
    },
    {
     "ename": "AttributeError",
     "evalue": "'NoneType' object has no attribute 'query'",
     "output_type": "error",
     "traceback": [
      "\u001b[0;31m---------------------------------------------------------------------------\u001b[0m",
      "\u001b[0;31mAttributeError\u001b[0m                            Traceback (most recent call last)",
      "\u001b[0;32m/tmp/ipykernel_17827/811572981.py\u001b[0m in \u001b[0;36m<module>\u001b[0;34m\u001b[0m\n\u001b[1;32m     18\u001b[0m     \u001b[0mexit\u001b[0m\u001b[0;34m(\u001b[0m\u001b[0;34m)\u001b[0m\u001b[0;34m\u001b[0m\u001b[0;34m\u001b[0m\u001b[0m\n\u001b[1;32m     19\u001b[0m \u001b[0;32mwhile\u001b[0m \u001b[0;32mTrue\u001b[0m\u001b[0;34m:\u001b[0m\u001b[0;34m\u001b[0m\u001b[0;34m\u001b[0m\u001b[0m\n\u001b[0;32m---> 20\u001b[0;31m     \u001b[0mbattery_info\u001b[0m \u001b[0;34m=\u001b[0m \u001b[0mbattery\u001b[0m\u001b[0;34m.\u001b[0m\u001b[0mquery\u001b[0m\u001b[0;34m(\u001b[0m\u001b[0;34m\"POWER_INFO?\"\u001b[0m\u001b[0;34m)\u001b[0m\u001b[0;34m\u001b[0m\u001b[0;34m\u001b[0m\u001b[0m\n\u001b[0m\u001b[1;32m     21\u001b[0m     \u001b[0mcharger_info\u001b[0m \u001b[0;34m=\u001b[0m \u001b[0mcharger\u001b[0m\u001b[0;34m.\u001b[0m\u001b[0mquery\u001b[0m\u001b[0;34m(\u001b[0m\u001b[0;34m\"POWER_INFO?\"\u001b[0m\u001b[0;34m)\u001b[0m\u001b[0;34m\u001b[0m\u001b[0;34m\u001b[0m\u001b[0m\n\u001b[1;32m     22\u001b[0m \u001b[0;34m\u001b[0m\u001b[0m\n",
      "\u001b[0;31mAttributeError\u001b[0m: 'NoneType' object has no attribute 'query'"
     ]
    },
    {
     "name": "stderr",
     "output_type": "stream",
     "text": [
      "Task exception was never retrieved\n",
      "future: <Task finished name='Task-7' coro=<_ServiceBrowserBase._async_start_query_sender() done, defined at /usr/lib/python3/dist-packages/zeroconf/_services/browser.py:442> exception=NotRunningException()>\n",
      "Traceback (most recent call last):\n",
      "  File \"/usr/lib/python3/dist-packages/zeroconf/_services/browser.py\", line 444, in _async_start_query_sender\n",
      "    await self.zc.async_wait_for_start()\n",
      "  File \"/usr/lib/python3/dist-packages/zeroconf/_core.py\", line 500, in async_wait_for_start\n",
      "    raise NotRunningException\n",
      "zeroconf._exceptions.NotRunningException\n"
     ]
    },
    {
     "ename": "",
     "evalue": "",
     "output_type": "error",
     "traceback": [
      "\u001b[1;31mThe Kernel crashed while executing code in the the current cell or a previous cell. Please review the code in the cell(s) to identify a possible cause of the failure. Click <a href='https://aka.ms/vscodeJupyterKernelCrash'>here</a> for more info. View Jupyter <a href='command:jupyter.viewOutput'>log</a> for further details."
     ]
    }
   ],
   "source": [
    "import pyvisa as visa\n",
    "import time \n",
    "\n",
    "rm = visa.ResourceManager()\n",
    "resources = rm.list_resources()\n",
    "\n",
    "battery = None\n",
    "charger = None\n",
    "\n",
    "for res in resources:\n",
    "    if 'battery' in res.lower():\n",
    "        battery = rm.open_resource(res)\n",
    "    elif 'charger' in res.lower():\n",
    "        charger = rm.open_resource(res)\n",
    "\n",
    "if not battery or not charger:\n",
    "    print(\"Could not detect battery or charger.\")\n",
    "    exit()\n",
    "while True:\n",
    "    battery_info = battery.query(\"POWER_INFO?\")\n",
    "    charger_info = charger.query(\"POWER_INFO?\")\n",
    "\n",
    "    print(\"Battery Info: \", battery_info)\n",
    "    print(\"Charger Info: \", charger_info)\n",
    "\n",
    "    time.sleep(1)"
   ]
  }
 ],
 "metadata": {
  "kernelspec": {
   "display_name": "TensorFlow",
   "language": "python",
   "name": "python3"
  },
  "language_info": {
   "codemirror_mode": {
    "name": "ipython",
    "version": 3
   },
   "file_extension": ".py",
   "mimetype": "text/x-python",
   "name": "python",
   "nbconvert_exporter": "python",
   "pygments_lexer": "ipython3",
   "version": "3.10.6"
  },
  "orig_nbformat": 4
 },
 "nbformat": 4,
 "nbformat_minor": 2
}
