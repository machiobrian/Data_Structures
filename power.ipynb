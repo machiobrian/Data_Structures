{
 "cells": [
  {
   "cell_type": "code",
   "execution_count": 4,
   "metadata": {},
   "outputs": [
    {
     "name": "stdout",
     "output_type": "stream",
     "text": [
      "\u001b[0;31mType:\u001b[0m        module\n",
      "\u001b[0;31mString form:\u001b[0m <module 'pyvisa' from '/home/ix502iv/.local/lib/python3.10/site-packages/pyvisa/__init__.py'>\n",
      "\u001b[0;31mFile:\u001b[0m        ~/.local/lib/python3.10/site-packages/pyvisa/__init__.py\n",
      "\u001b[0;31mDocstring:\u001b[0m  \n",
      "Python wrapper of IVI Virtual Instruments Software Architecture library (VISA).\n",
      "\n",
      "This file is part of PyVISA.\n",
      "\n",
      ":copyright: 2014-2022 by PyVISA Authors, see AUTHORS for more details.\n",
      ":license: MIT, see LICENSE for more details.\n"
     ]
    }
   ],
   "source": [
    "pyvisa?"
   ]
  },
  {
   "cell_type": "code",
   "execution_count": 5,
   "metadata": {},
   "outputs": [],
   "source": [
    "import pyvisa"
   ]
  },
  {
   "cell_type": "code",
   "execution_count": null,
   "metadata": {},
   "outputs": [],
   "source": []
  }
 ],
 "metadata": {
  "kernelspec": {
   "display_name": "TensorFlow",
   "language": "python",
   "name": "python3"
  },
  "language_info": {
   "codemirror_mode": {
    "name": "ipython",
    "version": 3
   },
   "file_extension": ".py",
   "mimetype": "text/x-python",
   "name": "python",
   "nbconvert_exporter": "python",
   "pygments_lexer": "ipython3",
   "version": "3.10.8"
  },
  "orig_nbformat": 4
 },
 "nbformat": 4,
 "nbformat_minor": 2
}
